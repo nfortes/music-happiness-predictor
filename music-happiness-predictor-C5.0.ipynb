{
 "cells": [
  {
   "cell_type": "code",
   "execution_count": null,
   "id": "0176cbd5",
   "metadata": {},
   "outputs": [],
   "source": [
    "import pandas as pd\n",
    "from sklearn.model_selection import train_test_split\n",
    "from sklearn.ensemble import AdaBoostClassifier\n",
    "from sklearn.tree import DecisionTreeClassifier\n",
    "from sklearn.metrics import classification_report\n",
    "\n",
    "# Load dataset\n",
    "df = pd.read_csv(\"dataset.csv\")\n",
    "\n",
    "# Focus on top 5 genres\n",
    "top_genres = df['track_genre'].value_counts().nlargest(5).index\n",
    "df = df[df['track_genre'].isin(top_genres)]\n",
    "\n",
    "# Select relevant features\n",
    "features = ['danceability', 'energy', 'acousticness', 'instrumentalness', 'valence', 'tempo']\n",
    "X = df[features]\n",
    "y = df['track_genre']\n",
    "\n",
    "# Drop missing values\n",
    "X = X.dropna()\n",
    "y = y[X.index]\n",
    "\n",
    "# Train-test split\n",
    "X_train, X_test, y_train, y_test = train_test_split(X, y, test_size=0.2, random_state=42)\n",
    "\n",
    "# Base estimator (Decision Tree with max depth to prevent overfitting)\n",
    "base_tree = DecisionTreeClassifier(criterion='entropy', max_depth=5)\n",
    "\n",
    "# Boosted model (C5.0-like)\n",
    "model = AdaBoostClassifier(base_estimator=base_tree, n_estimators=50, learning_rate=1.0)\n",
    "model.fit(X_train, y_train)\n",
    "\n",
    "# Evaluate\n",
    "y_pred = model.predict(X_test)\n",
    "print(\"C5.0-style (Boosted) Decision Tree Report:\")\n",
    "print(classification_report(y_test, y_pred))"
   ]
  }
 ],
 "metadata": {
  "language_info": {
   "name": "python"
  }
 },
 "nbformat": 4,
 "nbformat_minor": 5
}
