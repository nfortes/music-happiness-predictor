{
 "cells": [
  {
   "cell_type": "code",
   "execution_count": null,
   "id": "fdc964d6",
   "metadata": {},
   "outputs": [],
   "source": [
    "# Course : CS 513 - Knowledge Discovery and Data Mining\n",
    "# Group Members: Branden Bulatao, Joseph Faustino, Natalie Fortes, Isabel Sutedjo\n",
    "# Id : 20005971, 20006114, 20006007, 20006618\n",
    "# Purpose : Music Happiness Predictor - Predicts the happiness of music tracks based on various features."
   ]
  },
  {
   "cell_type": "code",
   "execution_count": 2,
   "id": "0176cbd5",
   "metadata": {},
   "outputs": [
    {
     "name": "stdout",
     "output_type": "stream",
     "text": [
      "C5.0-style (Boosted) Decision Tree Report:\n",
      "              precision    recall  f1-score   support\n",
      "\n",
      "    acoustic       0.63      0.56      0.60       216\n",
      "    afrobeat       0.58      0.56      0.57       190\n",
      "    alt-rock       0.29      0.32      0.30       192\n",
      " alternative       0.36      0.36      0.36       210\n",
      "     ambient       0.78      0.82      0.80       192\n",
      "\n",
      "    accuracy                           0.52      1000\n",
      "   macro avg       0.53      0.52      0.53      1000\n",
      "weighted avg       0.53      0.52      0.52      1000\n",
      "\n"
     ]
    }
   ],
   "source": [
    "import pandas as pd\n",
    "from sklearn.model_selection import train_test_split\n",
    "from sklearn.ensemble import AdaBoostClassifier\n",
    "from sklearn.tree import DecisionTreeClassifier\n",
    "from sklearn.metrics import classification_report\n",
    "\n",
    "# Load dataset\n",
    "df = pd.read_csv(\"dataset.csv\")\n",
    "\n",
    "# Focus on top 5 genres\n",
    "top_genres = df['track_genre'].value_counts().nlargest(5).index\n",
    "df = df[df['track_genre'].isin(top_genres)]\n",
    "\n",
    "# Select relevant features\n",
    "features = ['danceability', 'energy', 'acousticness', 'instrumentalness', 'valence', 'tempo']\n",
    "X = df[features]\n",
    "y = df['track_genre']\n",
    "\n",
    "# Drop missing values\n",
    "X = X.dropna()\n",
    "y = y[X.index]\n",
    "\n",
    "# Train-test split\n",
    "X_train, X_test, y_train, y_test = train_test_split(X, y, test_size=0.2, random_state=42)\n",
    "\n",
    "# Base estimator (Decision Tree with max depth to prevent overfitting)\n",
    "base_tree = DecisionTreeClassifier(criterion='entropy', max_depth=5)\n",
    "\n",
    "# Boosted model (C5.0-like)\n",
    "model = AdaBoostClassifier(estimator=base_tree, n_estimators=50, learning_rate=1.0)\n",
    "model.fit(X_train, y_train)\n",
    "\n",
    "# Evaluate\n",
    "y_pred = model.predict(X_test)\n",
    "print(\"C5.0-style (Boosted) Decision Tree Report:\")\n",
    "print(classification_report(y_test, y_pred))"
   ]
  }
 ],
 "metadata": {
  "kernelspec": {
   "display_name": "Python 3",
   "language": "python",
   "name": "python3"
  },
  "language_info": {
   "codemirror_mode": {
    "name": "ipython",
    "version": 3
   },
   "file_extension": ".py",
   "mimetype": "text/x-python",
   "name": "python",
   "nbconvert_exporter": "python",
   "pygments_lexer": "ipython3",
   "version": "3.13.2"
  }
 },
 "nbformat": 4,
 "nbformat_minor": 5
}
