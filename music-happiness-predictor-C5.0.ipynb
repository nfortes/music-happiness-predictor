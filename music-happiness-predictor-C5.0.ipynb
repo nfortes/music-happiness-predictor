{
 "cells": [
  {
   "cell_type": "code",
   "execution_count": 3,
   "id": "11fc19ac",
   "metadata": {},
   "outputs": [],
   "source": [
    "# Course : CS 513 - Knowledge Discovery and Data Mining\n",
    "# Group Members: Branden Bulatao, Joseph Faustino, Natalie Fortes, Isabel Sutedjo\n",
    "# Id : 20005971, 20006114, 20006007, 20006618\n",
    "# Purpose : Music Happiness Predictor - Predicts the happiness of music tracks based on various features."
   ]
  },
  {
   "cell_type": "code",
   "execution_count": 4,
   "id": "0176cbd5",
   "metadata": {},
   "outputs": [
    {
     "name": "stdout",
     "output_type": "stream",
     "text": [
      "C5.0-style (Boosted) Decision Tree Report:\n",
      "                   precision    recall  f1-score   support\n",
      "\n",
      "         acoustic       0.68      0.60      0.64       316\n",
      "              pop       0.61      0.63      0.62       309\n",
      "        power-pop       0.57      0.49      0.53       284\n",
      "progressive-house       0.73      0.75      0.74       301\n",
      "        punk-rock       0.43      0.52      0.47       290\n",
      "\n",
      "         accuracy                           0.60      1500\n",
      "        macro avg       0.60      0.60      0.60      1500\n",
      "     weighted avg       0.61      0.60      0.60      1500\n",
      "\n"
     ]
    }
   ],
   "source": [
    "import pandas as pd\n",
    "from sklearn.model_selection import train_test_split\n",
    "from sklearn.ensemble import AdaBoostClassifier\n",
    "from sklearn.tree import DecisionTreeClassifier\n",
    "from sklearn.metrics import classification_report\n",
    "\n",
    "# Load dataset\n",
    "df = pd.read_csv(\"dataset.csv\")\n",
    "\n",
    "# Focus on top 5 genres\n",
    "top_genres = df['track_genre'].value_counts().nlargest(5).index\n",
    "df = df[df['track_genre'].isin(top_genres)]\n",
    "\n",
    "# Select relevant features\n",
    "features = ['danceability', 'energy', 'acousticness', 'instrumentalness', 'valence', 'tempo']\n",
    "X = df[features]\n",
    "y = df['track_genre']\n",
    "\n",
    "# Drop missing values\n",
    "X = X.dropna()\n",
    "y = y[X.index]\n",
    "\n",
    "# Train-test split\n",
    "X_train, X_test, y_train, y_test = train_test_split(X, y, test_size=0.3, random_state=42)\n",
    "\n",
    "# Base estimator (Decision Tree with max depth to prevent overfitting)\n",
    "base_tree = DecisionTreeClassifier(criterion='entropy', max_depth=5)\n",
    "\n",
    "# Boosted model (C5.0-like)\n",
    "model = AdaBoostClassifier(estimator=base_tree, n_estimators=50, learning_rate=1.0)\n",
    "model.fit(X_train, y_train)\n",
    "\n",
    "# Evaluate\n",
    "y_pred = model.predict(X_test)\n",
    "print(\"C5.0-style (Boosted) Decision Tree Report:\")\n",
    "print(classification_report(y_test, y_pred))"
   ]
  },
  {
   "cell_type": "code",
   "execution_count": null,
   "id": "b78587e0-3d95-4c3a-9333-bfcbfdd63906",
   "metadata": {},
   "outputs": [],
   "source": []
  },
  {
   "cell_type": "code",
   "execution_count": null,
   "id": "11b9f694-af13-489f-9992-1848bcdafdb7",
   "metadata": {},
   "outputs": [],
   "source": []
  }
 ],
 "metadata": {
  "kernelspec": {
   "display_name": "Python 3",
   "language": "python",
   "name": "python3"
  },
  "language_info": {
   "codemirror_mode": {
    "name": "ipython",
    "version": 3
   },
   "file_extension": ".py",
   "mimetype": "text/x-python",
   "name": "python",
   "nbconvert_exporter": "python",
   "pygments_lexer": "ipython3",
   "version": "3.13.2"
  }
 },
 "nbformat": 4,
 "nbformat_minor": 5
}
